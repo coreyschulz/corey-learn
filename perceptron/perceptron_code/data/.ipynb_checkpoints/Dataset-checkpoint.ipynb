{
 "cells": [
  {
   "cell_type": "code",
   "execution_count": 1,
   "metadata": {},
   "outputs": [],
   "source": [
    "from sklearn.datasets import fetch_20newsgroups\n",
    "from sklearn.datasets import dump_svmlight_file\n",
    "from sklearn.model_selection import train_test_split\n",
    "from scipy.sparse import csr_matrix\n",
    "from sklearn.feature_extraction.text import TfidfVectorizer\n",
    "from sklearn.feature_selection import SelectKBest\n",
    "from sklearn.linear_model import Perceptron\n",
    "from sklearn.metrics import classification_report\n",
    "from sklearn.metrics import accuracy_score\n",
    "import numpy as np\n",
    "import json"
   ]
  },
  {
   "cell_type": "code",
   "execution_count": 2,
   "metadata": {},
   "outputs": [],
   "source": [
    "np.random.seed(0)"
   ]
  },
  {
   "cell_type": "code",
   "execution_count": 3,
   "metadata": {},
   "outputs": [],
   "source": [
    "def create_data(categories, num_features):\n",
    "    \n",
    "    newsgroups = fetch_20newsgroups(subset='all', \n",
    "                                    remove = ('headers', 'footers', 'quotes'), \n",
    "                                    categories=categories)\n",
    "    \n",
    "    X_train, X_test, y_train, y_test = train_test_split(newsgroups.data, \n",
    "                                                        newsgroups.target, \n",
    "                                                        test_size=0.2,\n",
    "                                                        random_state=0)\n",
    "    vectorizer = TfidfVectorizer()\n",
    "    kbest = SelectKBest(k=num_features)\n",
    "    \n",
    "    X_train = vectorizer.fit_transform(X_train)\n",
    "    y_train[y_train == 0] = -1\n",
    "    X_train_reduced = kbest.fit_transform(X_train, y_train)\n",
    "\n",
    "    X_test = vectorizer.transform(X_test)\n",
    "    y_test[y_test == 0] = -1\n",
    "    X_test_reduced = kbest.transform(X_test)\n",
    "    \n",
    "    dump_svmlight_file(X_train_reduced, y_train, 'data_train')\n",
    "    dump_svmlight_file(X_test_reduced, y_test, 'data_test')\n",
    "    \n",
    "    idx = np.arange(X_train_reduced.shape[0])\n",
    "    folds = np.array_split(idx, 5)\n",
    "    for i, f_idx in enumerate(folds):\n",
    "        dump_svmlight_file(X_train_reduced[f_idx], y_train[f_idx], f'CVfolds/fold{i+1}')\n",
    "    \n",
    "    selected_idx = kbest.get_support()\n",
    "    all_features = np.array(vectorizer.get_feature_names())\n",
    "    selected_features = all_features[selected_idx]\n",
    "    selected_dict = {}\n",
    "    for i, w in enumerate(selected_features):\n",
    "        selected_dict[str(i)] = w\n",
    "    \n",
    "    dict_json = json.dumps(selected_dict)\n",
    "    f = open(\"vocab_idx.json\",\"w\")\n",
    "    f.write(dict_json)\n",
    "    f.close()"
   ]
  },
  {
   "cell_type": "code",
   "execution_count": 4,
   "metadata": {},
   "outputs": [
    {
     "name": "stderr",
     "output_type": "stream",
     "text": [
      "Downloading 20news dataset. This may take a few minutes.\n",
      "Downloading dataset from https://ndownloader.figshare.com/files/5975967 (14 MB)\n"
     ]
    }
   ],
   "source": [
    "cats = ['sci.med', 'sci.space']\n",
    "create_data(cats, 250)"
   ]
  },
  {
   "cell_type": "code",
   "execution_count": 5,
   "metadata": {},
   "outputs": [],
   "source": [
    "with open('vocab_idx.json', 'r') as f:\n",
    "    selected_features = json.load(f)"
   ]
  },
  {
   "cell_type": "code",
   "execution_count": 6,
   "metadata": {},
   "outputs": [],
   "source": [
    "def read_libsvm(fname, num_features=0):\n",
    "    data = []\n",
    "    y = []\n",
    "    row_ind = []\n",
    "    col_ind = []\n",
    "    with open(fname) as f:\n",
    "        lines = f.readlines()\n",
    "        for i, line in enumerate(lines):\n",
    "            elements = line.split()\n",
    "            y.append(int(elements[0]))\n",
    "            for el in elements[1:]:\n",
    "                row_ind.append(i)\n",
    "                c, v = el.split(\":\")\n",
    "                col_ind.append(int(c))\n",
    "                data.append(float(v))\n",
    "    if num_features == 0:\n",
    "        num_features = max(col_ind) + 1\n",
    "    X = csr_matrix((data, (row_ind, col_ind)), shape=(len(y), num_features))\n",
    "    return X, np.array(y), num_features    "
   ]
  },
  {
   "cell_type": "code",
   "execution_count": 7,
   "metadata": {},
   "outputs": [],
   "source": [
    "X_train, y_train, num_features = read_libsvm('data_train')\n",
    "X_test, y_test, _ = read_libsvm('data_test', num_features)"
   ]
  },
  {
   "cell_type": "code",
   "execution_count": 8,
   "metadata": {},
   "outputs": [
    {
     "ename": "NameError",
     "evalue": "name 'clf_mine' is not defined",
     "output_type": "error",
     "traceback": [
      "\u001b[0;31m---------------------------------------------------------------------------\u001b[0m",
      "\u001b[0;31mNameError\u001b[0m                                 Traceback (most recent call last)",
      "\u001b[0;32m<ipython-input-8-8b0ce315b555>\u001b[0m in \u001b[0;36m<module>\u001b[0;34m\u001b[0m\n\u001b[0;32m----> 1\u001b[0;31m \u001b[0mw\u001b[0m \u001b[0;34m=\u001b[0m \u001b[0mnp\u001b[0m\u001b[0;34m.\u001b[0m\u001b[0msqueeze\u001b[0m\u001b[0;34m(\u001b[0m\u001b[0mnp\u001b[0m\u001b[0;34m.\u001b[0m\u001b[0masarray\u001b[0m\u001b[0;34m(\u001b[0m\u001b[0mclf_mine\u001b[0m\u001b[0;34m.\u001b[0m\u001b[0mw\u001b[0m\u001b[0;34m)\u001b[0m\u001b[0;34m)\u001b[0m\u001b[0;34m\u001b[0m\u001b[0;34m\u001b[0m\u001b[0m\n\u001b[0m\u001b[1;32m      2\u001b[0m \u001b[0msorted_w\u001b[0m \u001b[0;34m=\u001b[0m \u001b[0mnp\u001b[0m\u001b[0;34m.\u001b[0m\u001b[0margsort\u001b[0m\u001b[0;34m(\u001b[0m\u001b[0mw\u001b[0m\u001b[0;34m)\u001b[0m\u001b[0;34m\u001b[0m\u001b[0;34m\u001b[0m\u001b[0m\n",
      "\u001b[0;31mNameError\u001b[0m: name 'clf_mine' is not defined"
     ]
    }
   ],
   "source": [
    "w = np.squeeze(np.asarray(clf_mine.w))\n",
    "sorted_w = np.argsort(w)"
   ]
  },
  {
   "cell_type": "code",
   "execution_count": 11,
   "metadata": {},
   "outputs": [],
   "source": [
    "pos20 = sorted_w[:20]\n",
    "neg20 = sorted_w[-20:]"
   ]
  },
  {
   "cell_type": "code",
   "execution_count": 12,
   "metadata": {},
   "outputs": [],
   "source": [
    "top_pos = []\n",
    "top_negs = []\n",
    "for i, j in zip(pos20, neg20):\n",
    "    top_pos.append(selected_features[str(i)])\n",
    "    top_negs.append(selected_features[str(j)])"
   ]
  },
  {
   "cell_type": "code",
   "execution_count": 16,
   "metadata": {},
   "outputs": [
    {
     "name": "stderr",
     "output_type": "stream",
     "text": [
      "/anaconda/lib/python3.6/site-packages/sklearn/linear_model/stochastic_gradient.py:84: FutureWarning: max_iter and tol parameters have been added in <class 'sklearn.linear_model.perceptron.Perceptron'> in 0.19. If both are left unset, they default to max_iter=5 and tol=None. If tol is not None, max_iter defaults to max_iter=1000. From 0.21, default max_iter will be 1000, and default tol will be 1e-3.\n",
      "  \"and default tol will be 1e-3.\" % type(self), FutureWarning)\n"
     ]
    }
   ],
   "source": [
    "clf = Perceptron()"
   ]
  },
  {
   "cell_type": "code",
   "execution_count": 17,
   "metadata": {},
   "outputs": [
    {
     "data": {
      "text/plain": [
       "Perceptron(alpha=0.0001, class_weight=None, eta0=0.1, fit_intercept=True,\n",
       "      max_iter=5, n_iter=None, n_jobs=1, penalty=None, random_state=0,\n",
       "      shuffle=True, tol=None, verbose=0, warm_start=False)"
      ]
     },
     "execution_count": 17,
     "metadata": {},
     "output_type": "execute_result"
    }
   ],
   "source": [
    "clf.fit(X_train, y_train)"
   ]
  },
  {
   "cell_type": "code",
   "execution_count": 18,
   "metadata": {
    "collapsed": true
   },
   "outputs": [],
   "source": [
    "y_pred = clf.predict(X_test)"
   ]
  },
  {
   "cell_type": "code",
   "execution_count": 19,
   "metadata": {},
   "outputs": [
    {
     "name": "stdout",
     "output_type": "stream",
     "text": [
      "             precision    recall  f1-score   support\n",
      "\n",
      "         -1       0.82      0.94      0.88       191\n",
      "          1       0.94      0.81      0.87       205\n",
      "\n",
      "avg / total       0.88      0.87      0.87       396\n",
      "\n"
     ]
    }
   ],
   "source": [
    "print(classification_report(y_test, y_pred))"
   ]
  },
  {
   "cell_type": "code",
   "execution_count": 20,
   "metadata": {},
   "outputs": [
    {
     "data": {
      "text/plain": [
       "0.8737373737373737"
      ]
     },
     "execution_count": 20,
     "metadata": {},
     "output_type": "execute_result"
    }
   ],
   "source": [
    "accuracy_score(y_test, y_pred)"
   ]
  },
  {
   "cell_type": "code",
   "execution_count": 23,
   "metadata": {},
   "outputs": [],
   "source": [
    "w = np.squeeze(clf.coef_)\n",
    "sorted_w = np.argsort(w)"
   ]
  },
  {
   "cell_type": "code",
   "execution_count": 25,
   "metadata": {
    "collapsed": true
   },
   "outputs": [],
   "source": [
    "pos20 = sorted_w[:20]\n",
    "neg20 = sorted_w[-20:]\n",
    "top_pos = []\n",
    "top_negs = []\n",
    "for i, j in zip(pos20, neg20):\n",
    "    top_pos.append(selected_features[str(i)])\n",
    "    top_negs.append(selected_features[str(j)])"
   ]
  },
  {
   "cell_type": "code",
   "execution_count": 26,
   "metadata": {},
   "outputs": [
    {
     "data": {
      "text/plain": [
       "['med',\n",
       " 'health',\n",
       " 'experience',\n",
       " 'medical',\n",
       " 'msg',\n",
       " 'her',\n",
       " 'edu',\n",
       " 'person',\n",
       " 'normal',\n",
       " 'blood',\n",
       " 'information',\n",
       " 'skin',\n",
       " 'common',\n",
       " 'effect',\n",
       " 'surgery',\n",
       " 'prevent',\n",
       " 'oral',\n",
       " 'candida',\n",
       " 'dangerous',\n",
       " 'results']"
      ]
     },
     "execution_count": 26,
     "metadata": {},
     "output_type": "execute_result"
    }
   ],
   "source": [
    "top_pos"
   ]
  },
  {
   "cell_type": "code",
   "execution_count": 27,
   "metadata": {},
   "outputs": [
    {
     "data": {
      "text/plain": [
       "['inflatable',\n",
       " 'launched',\n",
       " 'pluto',\n",
       " 'russian',\n",
       " 'international',\n",
       " 'moon',\n",
       " 'software',\n",
       " 'sky',\n",
       " 'hst',\n",
       " 'solar',\n",
       " 'tom',\n",
       " 'galaxy',\n",
       " 'station',\n",
       " 'spacecraft',\n",
       " 'orbit',\n",
       " 'nasa',\n",
       " 'earth',\n",
       " 'rocket',\n",
       " 'astro',\n",
       " 'space']"
      ]
     },
     "execution_count": 27,
     "metadata": {},
     "output_type": "execute_result"
    }
   ],
   "source": [
    "top_negs"
   ]
  }
 ],
 "metadata": {
  "kernelspec": {
   "display_name": "Python 3",
   "language": "python",
   "name": "python3"
  },
  "language_info": {
   "codemirror_mode": {
    "name": "ipython",
    "version": 3
   },
   "file_extension": ".py",
   "mimetype": "text/x-python",
   "name": "python",
   "nbconvert_exporter": "python",
   "pygments_lexer": "ipython3",
   "version": "3.7.2"
  }
 },
 "nbformat": 4,
 "nbformat_minor": 2
}
